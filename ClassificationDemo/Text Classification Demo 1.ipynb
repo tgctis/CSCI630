{
 "cells": [
  {
   "cell_type": "code",
   "execution_count": 10,
   "metadata": {
    "scrolled": true
   },
   "outputs": [
    {
     "data": {
      "text/plain": [
       "0.7738980350504514"
      ]
     },
     "execution_count": 10,
     "metadata": {},
     "output_type": "execute_result"
    }
   ],
   "source": [
    "import numpy as np\n",
    "from sklearn.datasets import fetch_20newsgroups\n",
    "from sklearn.feature_extraction.text import CountVectorizer\n",
    "from sklearn.feature_extraction.text import TfidfTransformer\n",
    "#nb classifier\n",
    "from sklearn.naive_bayes import MultinomialNB\n",
    "#pipeline\n",
    "from sklearn.pipeline import Pipeline\n",
    "\n",
    "twenty_train = fetch_20newsgroups(subset='train', shuffle=True)\n",
    "twenty_test = fetch_20newsgroups(subset='test', shuffle=True)\n",
    "# count_vect = CountVectorizer()\n",
    "# tfidf_transformer = TfidfTransformer()\n",
    "\n",
    "# twenty_train.target_names #prints categories\n",
    "#prints first line of the data file\n",
    "# print(\"\\n\".join(twenty_train.data[0].split(\"\\n\")[:3])) \n",
    "\n",
    "# x_train_counts = count_vect.fit_transform(twenty_train.data)\n",
    "# x_train_counts.shape\n",
    "# x_train_tfidf = tfidf_transformer.fit_transform(x_train_counts)\n",
    "# x_train_tfidf.shape\n",
    "\n",
    "#  NB classifier\n",
    "# clf = MultinomialNB().fit(x_train_tfidf, twenty_train.target)\n",
    "#does all of the above in 1 pipeline. Can continue adding.\n",
    "text_clf = Pipeline([('vect', CountVectorizer()),\n",
    "                    ('tfidf', TfidfTransformer()),\n",
    "                    ('clf', MultinomialNB())])\n",
    "\n",
    "text_clf = text_clf.fit(twenty_train.data, twenty_train.target)\n",
    "predicted = text_clf.predict(twenty_test.data)\n",
    "np.mean(predicted == twenty_test.target)"
   ]
  },
  {
   "cell_type": "code",
   "execution_count": null,
   "metadata": {},
   "outputs": [
    {
     "name": "stdout",
     "output_type": "stream",
     "text": [
      "showing info https://raw.githubusercontent.com/nltk/nltk_data/gh-pages/index.xml\n"
     ]
    }
   ],
   "source": [
    "import numpy as np\n",
    "import nltk\n",
    "nltk.download()\n",
    "\n",
    "from nltk.stem.snowball import SnowballStemmer\n",
    "from sklearn.datasets import fetch_20newsgroups\n",
    "from sklearn.feature_extraction.text import CountVectorizer\n",
    "from sklearn.feature_extraction.text import TfidfTransformer\n",
    "from sklearn.linear_model import SGDClassifier\n",
    "from sklearn.pipeline import Pipeline\n",
    "\n",
    "\n",
    "stemmer = SnowballStemmer(\"english\", ignore_stopwords=True)\n",
    "\n",
    "class StemmedCountVectorizer(CountVectorizer):\n",
    "    def build_analyzer(self):\n",
    "        analyzer = super(StemmedCountVectorizer, self).build_analyzer()\n",
    "        return lambda doc: ([stemmer.stem(w) for w in analyzer(doc)])\n",
    "stemmed_count_vect = StemmedCountVectorizer(stop_words='english')\n",
    "\n",
    "text_clf_svm = Pipeline([\n",
    "#                         ('vect', CountVectorizer(stop_words='english')),\n",
    "                        ('vect', stemmed_count_vect),\n",
    "                        ('tfidf', TfidfTransformer()),\n",
    "                        ('clf-svm', SGDClassifier(\n",
    "                            loss='hinge', penalty='l2'\n",
    "                            , alpha=1e-3\n",
    "#                             , n_iter=5\n",
    "                            , max_iter=10\n",
    "                            , tol=1e-3\n",
    "                            , random_state=42))\n",
    "                        ])\n",
    "\n",
    "text_clf_svm = text_clf_svm.fit(twenty_train.data, twenty_train.target)\n",
    "predicted_svm = text_clf_svm.predict(twenty_test.data)\n",
    "np.mean(predicted_svm == twenty_test.target)"
   ]
  }
 ],
 "metadata": {
  "kernelspec": {
   "display_name": "Python 2",
   "language": "python",
   "name": "python2"
  },
  "language_info": {
   "codemirror_mode": {
    "name": "ipython",
    "version": 2
   },
   "file_extension": ".py",
   "mimetype": "text/x-python",
   "name": "python",
   "nbconvert_exporter": "python",
   "pygments_lexer": "ipython2",
   "version": "2.7.15"
  }
 },
 "nbformat": 4,
 "nbformat_minor": 2
}
